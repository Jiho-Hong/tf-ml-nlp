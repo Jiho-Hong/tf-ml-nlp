{
  "nbformat": 4,
  "nbformat_minor": 0,
  "metadata": {
    "colab": {
      "provenance": []
    },
    "kernelspec": {
      "name": "python3",
      "display_name": "Python 3"
    },
    "language_info": {
      "name": "python"
    }
  },
  "cells": [
    {
      "cell_type": "markdown",
      "source": [
        "# 3.3 text similarity"
      ],
      "metadata": {
        "id": "VZ5I15jKpa26"
      }
    },
    {
      "cell_type": "code",
      "execution_count": 6,
      "metadata": {
        "colab": {
          "base_uri": "https://localhost:8080/"
        },
        "id": "3Dxi8i7UgBLD",
        "outputId": "4bc038ff-5587-49cb-9fb4-8f45469a90f6"
      },
      "outputs": [
        {
          "output_type": "stream",
          "name": "stdout",
          "text": [
            "  (0, 12)\t0.3160304990863645\n",
            "  (0, 6)\t0.3160304990863645\n",
            "  (0, 4)\t0.3160304990863645\n",
            "  (0, 1)\t0.3160304990863645\n",
            "  (0, 9)\t0.3160304990863645\n",
            "  (0, 14)\t0.22485830296545706\n",
            "  (0, 8)\t0.3160304990863645\n",
            "  (0, 13)\t0.3160304990863645\n",
            "  (0, 5)\t0.3160304990863645\n",
            "  (0, 7)\t0.3160304990863645\n",
            "  (0, 17)\t0.22485830296545706\n",
            "  (1, 11)\t0.35327776613855977\n",
            "  (1, 16)\t0.35327776613855977\n",
            "  (1, 3)\t0.35327776613855977\n",
            "  (1, 10)\t0.35327776613855977\n",
            "  (1, 0)\t0.35327776613855977\n",
            "  (1, 2)\t0.35327776613855977\n",
            "  (1, 15)\t0.35327776613855977\n",
            "  (1, 14)\t0.2513600402461016\n",
            "  (1, 17)\t0.2513600402461016\n"
          ]
        }
      ],
      "source": [
        "from sklearn.feature_extraction.text import TfidfVectorizer\n",
        "\n",
        "sent = (\"휴일 인 오늘 도 서쪽 을 중심 으로 폭염 이 이어졌는데요, 내일 은 반가운 비 소식 이 있습니다.\", \"폭염 을 피해서 휴일 에 놀러왔다가 갑작스런 비 로 인해 망연자실 하고 있습니 다.\") \n",
        "\n",
        "tfidf_vectorizer = TfidfVectorizer()\n",
        "tfidf_matrix = tfidf_vectorizer.fit_transform(sent) # 문장 벡터화 진행\n",
        "print(tfidf_matrix)"
      ]
    },
    {
      "cell_type": "code",
      "source": [
        "idf = tfidf_vectorizer.idf_\n",
        "print(dict(zip(tfidf_vectorizer.get_feature_names(), idf))) # 각 수치에 대한 값 시각화"
      ],
      "metadata": {
        "colab": {
          "base_uri": "https://localhost:8080/"
        },
        "id": "L65em1iQpz8d",
        "outputId": "a86ab22a-4533-4753-eb56-87a4d15d3de2"
      },
      "execution_count": 7,
      "outputs": [
        {
          "output_type": "stream",
          "name": "stdout",
          "text": [
            "{'갑작스런': 1.4054651081081644, '내일': 1.4054651081081644, '놀러왔다가': 1.4054651081081644, '망연자실': 1.4054651081081644, '반가운': 1.4054651081081644, '서쪽': 1.4054651081081644, '소식': 1.4054651081081644, '오늘': 1.4054651081081644, '으로': 1.4054651081081644, '이어졌는데요': 1.4054651081081644, '인해': 1.4054651081081644, '있습니': 1.4054651081081644, '있습니다': 1.4054651081081644, '중심': 1.4054651081081644, '폭염': 1.0, '피해서': 1.4054651081081644, '하고': 1.4054651081081644, '휴일': 1.0}\n"
          ]
        }
      ]
    },
    {
      "cell_type": "markdown",
      "source": [
        "## Jaccard similarity"
      ],
      "metadata": {
        "id": "EDoe0u8xs4t3"
      }
    },
    {
      "cell_type": "code",
      "source": [
        "import numpy as np"
      ],
      "metadata": {
        "id": "IECT5HjktJlN"
      },
      "execution_count": 8,
      "outputs": []
    },
    {
      "cell_type": "code",
      "source": [
        "from sklearn.metrics import jaccard_score\n",
        "\n",
        "jaccard_score(np.array([1,1,0,0]), np.array([1,1,0,2]), average=None)"
      ],
      "metadata": {
        "colab": {
          "base_uri": "https://localhost:8080/"
        },
        "id": "pERD-2lxqLSf",
        "outputId": "ccf172d1-37ff-4fcd-f4de-94530449db48"
      },
      "execution_count": 9,
      "outputs": [
        {
          "output_type": "execute_result",
          "data": {
            "text/plain": [
              "array([0.5, 1. , 0. ])"
            ]
          },
          "metadata": {},
          "execution_count": 9
        }
      ]
    },
    {
      "cell_type": "markdown",
      "source": [
        "## Cosine similarity"
      ],
      "metadata": {
        "id": "-CYtNoMCtSPT"
      }
    },
    {
      "cell_type": "code",
      "source": [
        "from sklearn.metrics.pairwise import cosine_similarity\n",
        "\n",
        "cosine_similarity(tfidf_matrix[0:1], tfidf_matrix[1:2])"
      ],
      "metadata": {
        "colab": {
          "base_uri": "https://localhost:8080/"
        },
        "id": "cJUCSayhtNQz",
        "outputId": "88ce60f3-eb07-4c9b-e9cd-a8ad115d1167"
      },
      "execution_count": 10,
      "outputs": [
        {
          "output_type": "execute_result",
          "data": {
            "text/plain": [
              "array([[0.11304078]])"
            ]
          },
          "metadata": {},
          "execution_count": 10
        }
      ]
    },
    {
      "cell_type": "markdown",
      "source": [
        "## Euclidean similarity"
      ],
      "metadata": {
        "id": "AefCAK1ttiGn"
      }
    },
    {
      "cell_type": "code",
      "source": [
        "from sklearn.metrics.pairwise import euclidean_distances\n",
        "\n",
        "euclidean_distances(tfidf_matrix[0:1], tfidf_matrix[1:2])\n",
        "\n",
        "def l1_normalize(v):\n",
        "    norm = np.sum(v)\n",
        "    return v / norm\n",
        "\n",
        "tfidf_norm_l1 = l1_normalize(tfidf_matrix)\n",
        "euclidean_distances(tfidf_norm_l1[0:1], tfidf_norm_l1[1:2])"
      ],
      "metadata": {
        "colab": {
          "base_uri": "https://localhost:8080/"
        },
        "id": "wkNbs3CttYPA",
        "outputId": "41095fff-daeb-4ccf-9c62-e9a24da163a9"
      },
      "execution_count": 11,
      "outputs": [
        {
          "output_type": "execute_result",
          "data": {
            "text/plain": [
              "array([[0.21243357]])"
            ]
          },
          "metadata": {},
          "execution_count": 11
        }
      ]
    },
    {
      "cell_type": "markdown",
      "source": [
        "## Manhattan similarity"
      ],
      "metadata": {
        "id": "3KOljUvht8to"
      }
    },
    {
      "cell_type": "code",
      "source": [
        "from sklearn.metrics.pairwise import manhattan_distances\n",
        "\n",
        "manhattan_distances(tfidf_norm_l1[0:1], tfidf_norm_l1[1:2])"
      ],
      "metadata": {
        "colab": {
          "base_uri": "https://localhost:8080/"
        },
        "id": "-dwEkr2Itq1T",
        "outputId": "e0142a37-82f3-4376-8fe9-52a7b5b28900"
      },
      "execution_count": 12,
      "outputs": [
        {
          "output_type": "execute_result",
          "data": {
            "text/plain": [
              "array([[0.85654185]])"
            ]
          },
          "metadata": {},
          "execution_count": 12
        }
      ]
    }
  ]
}