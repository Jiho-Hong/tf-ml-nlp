{
  "nbformat": 4,
  "nbformat_minor": 0,
  "metadata": {
    "colab": {
      "provenance": []
    },
    "kernelspec": {
      "name": "python3",
      "display_name": "Python 3"
    },
    "language_info": {
      "name": "python"
    }
  },
  "cells": [
    {
      "cell_type": "markdown",
      "source": [
        "# 합성곱 신경망 분류 모델"
      ],
      "metadata": {
        "id": "jzLXlcMk_Ps4"
      }
    },
    {
      "cell_type": "markdown",
      "source": [
        "## 랜덤 시드 고정"
      ],
      "metadata": {
        "id": "ZuDaYYoj02yP"
      }
    },
    {
      "cell_type": "code",
      "execution_count": 4,
      "metadata": {
        "id": "k519EGXZzIPj"
      },
      "outputs": [],
      "source": [
        "import tensorflow as tf\n",
        "\n",
        "SEED_NUM = 1234\n",
        "tf.random.set_seed(SEED_NUM)"
      ]
    },
    {
      "cell_type": "markdown",
      "source": [
        "## 학습 데이터 불러오기"
      ],
      "metadata": {
        "id": "vMPvAOpu1WEf"
      }
    },
    {
      "cell_type": "code",
      "source": [
        "from tensorflow.keras.preprocessing.sequence import pad_sequences\n",
        "import numpy as np\n",
        "import json\n",
        "\n",
        "DATA_IN_PATH = './data_in/'\n",
        "DATA_OUT_PATH = './data_out/'\n",
        "TRAIN_INPUT_DATA = 'train_input.npy'\n",
        "TRAIN_LABEL_DATA = 'train_label.npy'\n",
        "DATA_CONFIGS = 'data_configs.json'\n",
        "\n",
        "train_input = np.load(open(DATA_IN_PATH + TRAIN_INPUT_DATA, 'rb'))\n",
        "train_input = pad_sequences(train_input, maxlen=train_input.shape[1])\n",
        "train_label = np.load(open(DATA_IN_PATH + TRAIN_LABEL_DATA, 'rb'))\n",
        "prepro_configs = json.load(open(DATA_IN_PATH + DATA_CONFIGS, 'r'))"
      ],
      "metadata": {
        "id": "J-ugVIb51ASi"
      },
      "execution_count": 5,
      "outputs": []
    },
    {
      "cell_type": "markdown",
      "source": [
        "## 하이퍼파라미터 정의"
      ],
      "metadata": {
        "id": "VJfFtMF4BFiQ"
      }
    },
    {
      "cell_type": "code",
      "execution_count": 6,
      "metadata": {
        "id": "8N9lnXzo_LMA"
      },
      "outputs": [],
      "source": [
        "model_name = 'cnn_classifier_en'\n",
        "BATCH_SIZE = 512\n",
        "NUM_EPOCHS = 2\n",
        "VALID_SPLIT = 0.1\n",
        "MAX_LEN = train_input.shape[1]\n",
        "\n",
        "kargs = {'model_name': model_name,\n",
        "        'vocab_size': prepro_configs['vocab_size'],\n",
        "        'embedding_size': 128,\n",
        "        'num_filters': 100,\n",
        "        'dropout_rate': 0.5,\n",
        "        'hidden_dimension': 250,\n",
        "        'output_dimension':1} "
      ]
    },
    {
      "cell_type": "markdown",
      "source": [
        "## 모델 구현"
      ],
      "metadata": {
        "id": "TIsRi_0FAhI9"
      }
    },
    {
      "cell_type": "code",
      "source": [
        "from tensorflow.keras import layers\n",
        "\n",
        "class CNNClassifier(tf.keras.Model):\n",
        "    \n",
        "    def __init__(self, **kargs):\n",
        "        super(CNNClassifier, self).__init__(name=kargs['model_name'])\n",
        "        self.embedding = layers.Embedding(input_dim=kargs['vocab_size'],\n",
        "                                     output_dim=kargs['embedding_size'])\n",
        "        self.conv_list = [layers.Conv1D(filters=kargs['num_filters'],\n",
        "                                   kernel_size=kernel_size,\n",
        "                                   padding='valid',\n",
        "                                   activation=tf.keras.activations.relu,\n",
        "                                   kernel_constraint=tf.keras.constraints.MaxNorm(max_value=3.))\n",
        "                     for kernel_size in [3,4,5]]\n",
        "                     \n",
        "        self.pooling = layers.GlobalMaxPooling1D()\n",
        "        self.dropout = layers.Dropout(kargs['dropout_rate'])\n",
        "        self.fc1 = layers.Dense(units=kargs['hidden_dimension'],\n",
        "                           activation=tf.keras.activations.relu,\n",
        "                           kernel_constraint=tf.keras.constraints.MaxNorm(max_value=3.))\n",
        "        self.fc2 = layers.Dense(units=kargs['output_dimension'],\n",
        "                           activation=tf.keras.activations.sigmoid,\n",
        "                           kernel_constraint=tf.keras.constraints.MaxNorm(max_value=3.))\n",
        "    \n",
        "    def call(self, x):\n",
        "        x = self.embedding(x)\n",
        "        x = self.dropout(x)\n",
        "        x = tf.concat([self.pooling(conv(x)) for conv in self.conv_list], axis=-1)\n",
        "        x = self.fc1(x)\n",
        "        x = self.fc2(x)\n",
        "        \n",
        "        return x"
      ],
      "metadata": {
        "id": "VCOPAjnVAqhA"
      },
      "execution_count": 7,
      "outputs": []
    },
    {
      "cell_type": "markdown",
      "source": [
        "## 모델 생성"
      ],
      "metadata": {
        "id": "XpernYi4B8i1"
      }
    },
    {
      "cell_type": "code",
      "source": [
        "model = CNNClassifier(**kargs)\n",
        "model.compile(optimizer=tf.keras.optimizers.Adam(),\n",
        "              loss=tf.keras.losses.BinaryCrossentropy(),\n",
        "              metrics=[tf.keras.metrics.BinaryAccuracy(name='accuracy')])"
      ],
      "metadata": {
        "id": "XWCNfvQpBd4b"
      },
      "execution_count": 8,
      "outputs": []
    },
    {
      "cell_type": "markdown",
      "source": [
        "## 모델 학습"
      ],
      "metadata": {
        "id": "sUZxxnQ0CVuy"
      }
    },
    {
      "cell_type": "code",
      "source": [
        "from tensorflow.keras.callbacks import EarlyStopping, ModelCheckpoint\n",
        "import os\n",
        "\n",
        "# overfitting을 막기 위한 ealrystop 추가\n",
        "earlystop_callback = EarlyStopping(monitor='val_accuracy', min_delta=0.0001,patience=2)\n",
        "# min_delta: the threshold that triggers the termination (acc should at least improve 0.0001)\n",
        "# patience: no improvment epochs (patience = 1, 1번 이상 상승이 없으면 종료)\\\n",
        "\n",
        "checkpoint_path = DATA_OUT_PATH + model_name + '/weights.h5'\n",
        "checkpoint_dir = os.path.dirname(checkpoint_path)\n",
        "\n",
        "# Create path if exists\n",
        "if os.path.exists(checkpoint_dir):\n",
        "    print(\"{} -- Folder already exists \\n\".format(checkpoint_dir))\n",
        "else:\n",
        "    os.makedirs(checkpoint_dir, exist_ok=True)\n",
        "    print(\"{} -- Folder create complete \\n\".format(checkpoint_dir))\n",
        "    \n",
        "\n",
        "cp_callback = ModelCheckpoint(\n",
        "    checkpoint_path, monitor='val_accuracy', verbose=1, save_best_only=True, save_weights_only=True)\n",
        "\n",
        "history = model.fit(train_input, train_label, batch_size=BATCH_SIZE, epochs=NUM_EPOCHS,\n",
        "                    validation_split=VALID_SPLIT, callbacks=[earlystop_callback, cp_callback])"
      ],
      "metadata": {
        "colab": {
          "base_uri": "https://localhost:8080/"
        },
        "id": "4lEelA1JCA9w",
        "outputId": "0ba64f12-a0b5-416a-9c28-ef1cd9410d28"
      },
      "execution_count": 9,
      "outputs": [
        {
          "output_type": "stream",
          "name": "stdout",
          "text": [
            "./data_out/cnn_classifier_en -- Folder create complete \n",
            "\n",
            "Epoch 1/2\n",
            "44/44 [==============================] - ETA: 0s - loss: 0.6709 - accuracy: 0.5947\n",
            "Epoch 1: val_accuracy improved from -inf to 0.77560, saving model to ./data_out/cnn_classifier_en/weights.h5\n",
            "44/44 [==============================] - 163s 4s/step - loss: 0.6709 - accuracy: 0.5947 - val_loss: 0.5595 - val_accuracy: 0.7756\n",
            "Epoch 2/2\n",
            "44/44 [==============================] - ETA: 0s - loss: 0.3788 - accuracy: 0.8401\n",
            "Epoch 2: val_accuracy improved from 0.77560 to 0.87480, saving model to ./data_out/cnn_classifier_en/weights.h5\n",
            "44/44 [==============================] - 132s 3s/step - loss: 0.3788 - accuracy: 0.8401 - val_loss: 0.3090 - val_accuracy: 0.8748\n"
          ]
        }
      ]
    },
    {
      "cell_type": "markdown",
      "source": [
        "## 시각화 함수"
      ],
      "metadata": {
        "id": "MNH-RSYWCq7O"
      }
    },
    {
      "cell_type": "code",
      "source": [
        "import matplotlib.pyplot as plt\n",
        "\n",
        "def plot_graphs(history, string):\n",
        "    plt.plot(history.history[string])\n",
        "    plt.plot(history.history['val_'+string], '')\n",
        "    plt.xlabel(\"Epochs\")\n",
        "    plt.ylabel(string)\n",
        "    plt.legend([string, 'val_'+string])\n",
        "    plt.show()"
      ],
      "metadata": {
        "id": "Kfvf-1PsCnFr"
      },
      "execution_count": 10,
      "outputs": []
    },
    {
      "cell_type": "code",
      "source": [
        "plot_graphs(history, 'loss')"
      ],
      "metadata": {
        "colab": {
          "base_uri": "https://localhost:8080/",
          "height": 279
        },
        "id": "RsBQDdioC2fS",
        "outputId": "a1214eaa-63d0-4950-fb78-0c7d29ebf47a"
      },
      "execution_count": 11,
      "outputs": [
        {
          "output_type": "display_data",
          "data": {
            "text/plain": [
              "<Figure size 432x288 with 1 Axes>"
            ],
            "image/png": "[encoded data removed]"
          },
          "metadata": {
            "needs_background": "light"
          }
        }
      ]
    },
    {
      "cell_type": "code",
      "source": [
        "plot_graphs(history, 'accuracy')"
      ],
      "metadata": {
        "colab": {
          "base_uri": "https://localhost:8080/",
          "height": 279
        },
        "id": "s1vu7d6vC4dm",
        "outputId": "bdeacb4e-6426-4fbd-e5f9-8d9b1c7afee9"
      },
      "execution_count": 12,
      "outputs": [
        {
          "output_type": "display_data",
          "data": {
            "text/plain": [
              "<Figure size 432x288 with 1 Axes>"
            ],
            "image/png": "[encoded data removed]"
          },
          "metadata": {
            "needs_background": "light"
          }
        }
      ]
    },
    {
      "cell_type": "markdown",
      "source": [
        "## 테스트 데이터 및 모델 불러오기"
      ],
      "metadata": {
        "id": "jZCgD2GNC9X2"
      }
    },
    {
      "cell_type": "code",
      "source": [
        "DATA_OUT_PATH = './data_out/'\n",
        "TEST_INPUT_DATA = 'test_input.npy'\n",
        "TEST_ID_DATA = 'test_id.npy'\n",
        "\n",
        "test_input = np.load(open(DATA_IN_PATH + TEST_INPUT_DATA, 'rb'))\n",
        "test_input = pad_sequences(test_input, maxlen=test_input.shape[1])\n",
        "\n",
        "SAVE_FILE_NM = 'weights.h5'\n",
        "\n",
        "model.load_weights(os.path.join(DATA_OUT_PATH, model_name, SAVE_FILE_NM))"
      ],
      "metadata": {
        "id": "RN5Ob4wdC51V"
      },
      "execution_count": 13,
      "outputs": []
    },
    {
      "cell_type": "markdown",
      "source": [
        "## 모델 예측"
      ],
      "metadata": {
        "id": "kmDd2TI8DN71"
      }
    },
    {
      "cell_type": "code",
      "source": [
        "import pandas as pd\n",
        "\n",
        "predictions = model.predict(test_input, batch_size=BATCH_SIZE)\n",
        "predictions = predictions.squeeze(-1)\n",
        "\n",
        "test_id = np.load(open(DATA_IN_PATH + TEST_ID_DATA, 'rb'), allow_pickle=True)\n",
        "\n",
        "if not os.path.exists(DATA_OUT_PATH):\n",
        "    os.makedirs(DATA_OUT_PATH)\n",
        "\n",
        "output = pd.DataFrame(data={\"id\": list(test_id), \"sentiment\": list(predictions)} )\n",
        "output.to_csv(DATA_OUT_PATH + 'movie_review_result_cnn.csv', index=False, quoting=3)"
      ],
      "metadata": {
        "colab": {
          "base_uri": "https://localhost:8080/"
        },
        "id": "AUR8XeqQDNPS",
        "outputId": "e604d045-7d18-4725-af46-c3daca90daf7"
      },
      "execution_count": 15,
      "outputs": [
        {
          "output_type": "stream",
          "name": "stdout",
          "text": [
            "49/49 [==============================] - 34s 681ms/step\n"
          ]
        }
      ]
    }
  ]
}