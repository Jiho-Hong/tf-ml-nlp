{
  "nbformat": 4,
  "nbformat_minor": 0,
  "metadata": {
    "colab": {
      "provenance": []
    },
    "kernelspec": {
      "name": "python3",
      "display_name": "Python 3"
    },
    "language_info": {
      "name": "python"
    }
  },
  "cells": [
    {
      "cell_type": "markdown",
      "source": [
        "# TF-IDF를 활용한 모델 구현"
      ],
      "metadata": {
        "id": "Lgp7S8p2dVbo"
      }
    },
    {
      "cell_type": "markdown",
      "source": [
        "## 데이터 불러오기"
      ],
      "metadata": {
        "id": "NpeLEyYOdlua"
      }
    },
    {
      "cell_type": "code",
      "execution_count": 3,
      "metadata": {
        "id": "XwKjodekdHfo"
      },
      "outputs": [],
      "source": [
        "import pandas as pd"
      ]
    },
    {
      "cell_type": "code",
      "source": [
        "DATA_IN_PATH = './data_in/' \n",
        "TRAIN_CLEAN_DATA = 'train_clean.csv'\n",
        "\n",
        "train_data = pd.read_csv( DATA_IN_PATH + TRAIN_CLEAN_DATA )\n",
        "\n",
        "reviews = list(train_data['review'])\n",
        "sentiments = list(train_data['sentiment'])"
      ],
      "metadata": {
        "id": "iSmr5MnZd9mn"
      },
      "execution_count": 4,
      "outputs": []
    },
    {
      "cell_type": "markdown",
      "source": [
        "## TF-IDF 벡터화"
      ],
      "metadata": {
        "id": "EZPVHRVOe_wp"
      }
    },
    {
      "cell_type": "code",
      "source": [
        "from sklearn.feature_extraction.text import TfidfVectorizer\n",
        "\n",
        "vectorizer = TfidfVectorizer(min_df = 0.0, analyzer=\"char\", sublinear_tf=True, ngram_range=(1,3), max_features=5000) \n",
        "# min_df - 설정한 값보다 특정 토큰의 df 값이 더 적게 나오면 벡터화 과정에서 제거\n",
        "# analyzer - 분석하가 위한 기준 단위 'word' or 'char'\n",
        "# sublinear_tf - 문서의 단어 빈도 수에 대한 스무딩 여부\n",
        "# ngram_range - 빈도의 기본 단위를 어느 범위의 n-gram으로 설정할 것인지를 보는 인자\n",
        "# max_features - 각 벡터의 최대 길이, 특징의 길이를 설정\n",
        "\n",
        "X = vectorizer.fit_transform(reviews)"
      ],
      "metadata": {
        "id": "ufV6ZjFuemOE"
      },
      "execution_count": 6,
      "outputs": []
    },
    {
      "cell_type": "markdown",
      "source": [
        "## 학습과 검증 데이터셋 분리"
      ],
      "metadata": {
        "id": "6mIZaig0gWw9"
      }
    },
    {
      "cell_type": "code",
      "source": [
        "from sklearn.model_selection import train_test_split\n",
        "import numpy as np\n",
        "\n",
        "RANDOM_SEED = 42\n",
        "TEST_SPLIT = 0.2\n",
        "\n",
        "y = np.array(sentiments)\n",
        "\n",
        "X_train, X_eval, y_train, y_eval = train_test_split(X, y, test_size=TEST_SPLIT, random_state=RANDOM_SEED)"
      ],
      "metadata": {
        "id": "7rX6qMs-gdXr"
      },
      "execution_count": 7,
      "outputs": []
    },
    {
      "cell_type": "markdown",
      "source": [
        "## 모델 선언 및 학습"
      ],
      "metadata": {
        "id": "m7W7nkeOhAGX"
      }
    },
    {
      "cell_type": "code",
      "source": [
        "from sklearn.linear_model import LogisticRegression\n",
        "\n",
        "lgs = LogisticRegression(class_weight='balanced') # class_weight='balanced' - 각 라벨에 대해 균형 있게 학습\n",
        "lgs.fit(X_train, y_train)"
      ],
      "metadata": {
        "colab": {
          "base_uri": "https://localhost:8080/"
        },
        "id": "5ExxjSD5g21M",
        "outputId": "bd18ca99-33b8-4c2b-8256-b365cf019364"
      },
      "execution_count": 9,
      "outputs": [
        {
          "output_type": "execute_result",
          "data": {
            "text/plain": [
              "LogisticRegression(class_weight='balanced')"
            ]
          },
          "metadata": {},
          "execution_count": 9
        }
      ]
    },
    {
      "cell_type": "markdown",
      "source": [
        "## 검증 데이터로 성능 평가"
      ],
      "metadata": {
        "id": "m4V9DhL8hUPo"
      }
    },
    {
      "cell_type": "code",
      "source": [
        "print(\"Accuracy: %f\" % lgs.score(X_eval, y_eval))"
      ],
      "metadata": {
        "colab": {
          "base_uri": "https://localhost:8080/"
        },
        "id": "xZp40UuVhGRh",
        "outputId": "c4ac875e-1cfd-44f1-b8e5-c2cc003755c8"
      },
      "execution_count": 10,
      "outputs": [
        {
          "output_type": "stream",
          "name": "stdout",
          "text": [
            "Accuracy: 0.859800\n"
          ]
        }
      ]
    },
    {
      "cell_type": "markdown",
      "source": [
        "## 데이터 제출하기\n",
        "\n"
      ],
      "metadata": {
        "id": "3qEPajrChn8D"
      }
    },
    {
      "cell_type": "markdown",
      "source": [
        "### 평가 데이터 불러오기"
      ],
      "metadata": {
        "id": "J4feOf5xiA3E"
      }
    },
    {
      "cell_type": "code",
      "source": [
        "TEST_CLEAN_DATA = 'test_clean.csv'\n",
        "\n",
        "test_data = pd.read_csv(DATA_IN_PATH + TEST_CLEAN_DATA)"
      ],
      "metadata": {
        "id": "k_mJFmJlhZOP"
      },
      "execution_count": 14,
      "outputs": []
    },
    {
      "cell_type": "markdown",
      "source": [
        "### TF-IDF 값으로 벡터화"
      ],
      "metadata": {
        "id": "BluJpMpNiFw_"
      }
    },
    {
      "cell_type": "code",
      "source": [
        "testDataVecs = vectorizer.transform(test_data['review'])"
      ],
      "metadata": {
        "id": "R3iwUotgiMy_"
      },
      "execution_count": 15,
      "outputs": []
    },
    {
      "cell_type": "markdown",
      "source": [
        "### 형태 확인"
      ],
      "metadata": {
        "id": "LJMLFqHgiy_v"
      }
    },
    {
      "cell_type": "code",
      "source": [
        "test_predicted = lgs.predict(testDataVecs)\n",
        "\n",
        "print(test_predicted)"
      ],
      "metadata": {
        "colab": {
          "base_uri": "https://localhost:8080/"
        },
        "id": "Sbdq6FqRiO7Z",
        "outputId": "deef966e-9df2-427f-e7d4-42fb4ab6546f"
      },
      "execution_count": 16,
      "outputs": [
        {
          "output_type": "stream",
          "name": "stdout",
          "text": [
            "[1 0 1 ... 0 1 1]\n"
          ]
        }
      ]
    },
    {
      "cell_type": "markdown",
      "source": [
        "### 제출 파일 만들기"
      ],
      "metadata": {
        "id": "ixuxwBDyi94b"
      }
    },
    {
      "cell_type": "code",
      "source": [
        "DATA_OUT_PATH = './data_out/'\n",
        "\n",
        "if not os.path.exists(DATA_OUT_PATH):\n",
        "    os.makedirs(DATA_OUT_PATH)\n",
        "\n",
        "ids = list(test_data['id'])\n",
        "answer_dataset = pd.DataFrame({'id': ids, 'sentiment': test_predicted})\n",
        "answer_dataset.to_csv(DATA_OUT_PATH + 'lgs_tfidf_answer.csv', index=False, quoting=3)"
      ],
      "metadata": {
        "id": "QLUvTILui5jW"
      },
      "execution_count": 19,
      "outputs": []
    }
  ]
}