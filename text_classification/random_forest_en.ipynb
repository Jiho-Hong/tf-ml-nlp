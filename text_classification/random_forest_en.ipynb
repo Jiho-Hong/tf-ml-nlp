{
  "nbformat": 4,
  "nbformat_minor": 0,
  "metadata": {
    "colab": {
      "provenance": []
    },
    "kernelspec": {
      "name": "python3",
      "display_name": "Python 3"
    },
    "language_info": {
      "name": "python"
    }
  },
  "cells": [
    {
      "cell_type": "markdown",
      "source": [
        "# 랜덤 포레스트 분류 모델"
      ],
      "metadata": {
        "id": "3ETlo0Hbv70E"
      }
    },
    {
      "cell_type": "markdown",
      "source": [
        "## 데이터 불러오기"
      ],
      "metadata": {
        "id": "-QZDVa-0wCmK"
      }
    },
    {
      "cell_type": "code",
      "execution_count": 3,
      "metadata": {
        "id": "Ygqq3_OQvIli"
      },
      "outputs": [],
      "source": [
        "import pandas as pd\n",
        "import numpy as np\n",
        "\n",
        "DATA_IN_PATH = './data_in/'\n",
        "TRAIN_CLEAN_DATA = 'train_clean.csv'\n",
        "\n",
        "train_data = pd.read_csv(DATA_IN_PATH + TRAIN_CLEAN_DATA)\n",
        "reviews = list(train_data['review'])\n",
        "y = np.array(train_data['sentiment'])"
      ]
    },
    {
      "cell_type": "markdown",
      "source": [
        "## CountVectorizer를 불러와서 객체 생성 후 리뷰 텍스트 데이터 적용"
      ],
      "metadata": {
        "id": "GnY99MfIwpGo"
      }
    },
    {
      "cell_type": "code",
      "source": [
        "from sklearn.feature_extraction.text import CountVectorizer\n",
        "\n",
        "vectorizer = CountVectorizer(analyzer = \"word\", max_features = 5000) \n",
        "\n",
        "train_data_features = vectorizer.fit_transform(reviews)"
      ],
      "metadata": {
        "id": "sU8jtGIVwz28"
      },
      "execution_count": 4,
      "outputs": []
    },
    {
      "cell_type": "markdown",
      "source": [
        "## train_data_features 형태"
      ],
      "metadata": {
        "id": "ocGvLcUKxHTX"
      }
    },
    {
      "cell_type": "code",
      "source": [
        "train_data_features"
      ],
      "metadata": {
        "colab": {
          "base_uri": "https://localhost:8080/"
        },
        "id": "nTbs5WWIw4EQ",
        "outputId": "6fdb66a3-4c7d-48e7-f6e0-9ab210d4300f"
      },
      "execution_count": 5,
      "outputs": [
        {
          "output_type": "execute_result",
          "data": {
            "text/plain": [
              "<25000x5000 sparse matrix of type '<class 'numpy.int64'>'\n",
              "\twith 1975048 stored elements in Compressed Sparse Row format>"
            ]
          },
          "metadata": {},
          "execution_count": 5
        }
      ]
    },
    {
      "cell_type": "markdown",
      "source": [
        "## 학습과 검증 데이터 분리"
      ],
      "metadata": {
        "id": "Uf1xx4s7xWnq"
      }
    },
    {
      "cell_type": "code",
      "source": [
        "from sklearn.model_selection import train_test_split\n",
        "\n",
        "TEST_SIZE = 0.2\n",
        "RANDOM_SEED = 42\n",
        "\n",
        "train_input, eval_input, train_label, eval_label = train_test_split(train_data_features, y, test_size=TEST_SIZE, random_state=RANDOM_SEED)"
      ],
      "metadata": {
        "id": "E1ZYo1CmxLJ9"
      },
      "execution_count": 7,
      "outputs": []
    },
    {
      "cell_type": "markdown",
      "source": [
        "## 모델 구현 및 학습"
      ],
      "metadata": {
        "id": "tpdXj6vmxyaH"
      }
    },
    {
      "cell_type": "code",
      "source": [
        "from sklearn.ensemble import RandomForestClassifier\n",
        "\n",
        "\n",
        "# 랜덤 포레스트 분류기에 100개 의사 결정 트리를 사용한다.\n",
        "forest = RandomForestClassifier(n_estimators = 100) \n",
        "\n",
        "# 단어 묶음을 벡터화한 데이터와 정답 데이터를 가지고 학습을 시작한다.\n",
        "forest.fit( train_input, train_label )"
      ],
      "metadata": {
        "colab": {
          "base_uri": "https://localhost:8080/"
        },
        "id": "RIz7t1gcxcno",
        "outputId": "5a725c3c-da15-4d2c-9b00-d8823e91d793"
      },
      "execution_count": 8,
      "outputs": [
        {
          "output_type": "execute_result",
          "data": {
            "text/plain": [
              "RandomForestClassifier()"
            ]
          },
          "metadata": {},
          "execution_count": 8
        }
      ]
    },
    {
      "cell_type": "markdown",
      "source": [
        "## 검증 데이터셋으로 성능 평가"
      ],
      "metadata": {
        "id": "xtdRD5Bix9z-"
      }
    },
    {
      "cell_type": "code",
      "source": [
        "print(\"Accuracy: %f\" % forest.score(eval_input, eval_label))"
      ],
      "metadata": {
        "colab": {
          "base_uri": "https://localhost:8080/"
        },
        "id": "BDe9r4AFx5Ve",
        "outputId": "9a3a8efa-f30c-45c9-b8f3-91d97b670ed8"
      },
      "execution_count": 9,
      "outputs": [
        {
          "output_type": "stream",
          "name": "stdout",
          "text": [
            "Accuracy: 0.845800\n"
          ]
        }
      ]
    },
    {
      "cell_type": "markdown",
      "source": [
        "## 전처리한 평가 데이터 불러오기"
      ],
      "metadata": {
        "id": "EFzNrbvUyIxX"
      }
    },
    {
      "cell_type": "code",
      "source": [
        "TEST_CLEAN_DATA = 'test_clean.csv'\n",
        "DATA_OUT_PATH = './data_out/'\n",
        "\n",
        "test_data = pd.read_csv(DATA_IN_PATH + TEST_CLEAN_DATA)\n",
        "\n",
        "test_reviews = list(test_data['review'])\n",
        "ids = list(test_data['id'])"
      ],
      "metadata": {
        "id": "LeH1d6FxyC28"
      },
      "execution_count": 10,
      "outputs": []
    },
    {
      "cell_type": "markdown",
      "source": [
        "## 평가 데이터 벡터화"
      ],
      "metadata": {
        "id": "rjuCzlF_yUy-"
      }
    },
    {
      "cell_type": "code",
      "source": [
        "test_data_features = vectorizer.transform(test_reviews)"
      ],
      "metadata": {
        "id": "ofPtk4WWyQBT"
      },
      "execution_count": 11,
      "outputs": []
    },
    {
      "cell_type": "markdown",
      "source": [
        "## CSV 파일로 만들어 저장"
      ],
      "metadata": {
        "id": "b8easONTygs1"
      }
    },
    {
      "cell_type": "code",
      "source": [
        "import os\n",
        "\n",
        "if not os.path.exists(DATA_OUT_PATH):\n",
        "    os.makedirs(DATA_OUT_PATH)\n",
        "    \n",
        "# 위에서 만든 랜덤 포레스트 분류기를 통해 예측값을 가져온다.\n",
        "result = forest.predict(test_data_features)\n",
        "\n",
        "# 판다스 데이터 프레임을 통해 데이터를 구성해서 output에 넣는다.\n",
        "output = pd.DataFrame( data={\"id\": ids, \"sentiment\": result} )\n",
        "\n",
        "# 이제 csv파일로 만든다.\n",
        "output.to_csv( DATA_OUT_PATH + \"Bag_of_Words_model.csv\", index=False, quoting=3 )"
      ],
      "metadata": {
        "id": "k9bt6-Yfybpb"
      },
      "execution_count": 12,
      "outputs": []
    }
  ]
}