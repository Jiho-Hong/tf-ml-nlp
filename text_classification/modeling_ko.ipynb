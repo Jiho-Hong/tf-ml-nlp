{
  "nbformat": 4,
  "nbformat_minor": 0,
  "metadata": {
    "colab": {
      "provenance": []
    },
    "kernelspec": {
      "name": "python3",
      "display_name": "Python 3"
    },
    "language_info": {
      "name": "python"
    },
    "accelerator": "GPU",
    "gpuClass": "standard"
  },
  "cells": [
    {
      "cell_type": "markdown",
      "source": [
        "# 모델링"
      ],
      "metadata": {
        "id": "R9uFzgwhGuAU"
      }
    },
    {
      "cell_type": "markdown",
      "source": [
        "## 학습 데이터 불러오기"
      ],
      "metadata": {
        "id": "3n6jwYDZG7z1"
      }
    },
    {
      "cell_type": "code",
      "execution_count": 1,
      "metadata": {
        "id": "HYGY85E7GeAO"
      },
      "outputs": [],
      "source": [
        "import tensorflow as tf\n",
        "from tensorflow.keras.preprocessing.sequence import pad_sequences\n",
        "from tensorflow.keras.callbacks import EarlyStopping, ModelCheckpoint\n",
        "from tensorflow.keras import layers\n",
        "\n",
        "import numpy as np\n",
        "import pandas as pd\n",
        "\n",
        "import matplotlib.pyplot as plt\n",
        "import os\n",
        "import json\n",
        "\n",
        "from tqdm import tqdm"
      ]
    },
    {
      "cell_type": "code",
      "source": [
        "DATA_IN_PATH = './data_in/'\n",
        "DATA_OUT_PATH = './data_out/'\n",
        "INPUT_TRAIN_DATA = 'nsmc_train_input.npy'\n",
        "LABEL_TRAIN_DATA = 'nsmc_train_label.npy'\n",
        "DATA_CONFIGS = 'data_configs_ko.json'\n",
        "\n",
        "train_input = np.load(open(DATA_IN_PATH + INPUT_TRAIN_DATA, 'rb'))\n",
        "train_input = pad_sequences(train_input, maxlen=train_input.shape[1])\n",
        "train_label = np.load(open(DATA_IN_PATH + LABEL_TRAIN_DATA, 'rb'))\n",
        "prepro_configs = json.load(open(DATA_IN_PATH + DATA_CONFIGS, 'r'))"
      ],
      "metadata": {
        "id": "Dug_EGtcHLfg"
      },
      "execution_count": 4,
      "outputs": []
    },
    {
      "cell_type": "markdown",
      "source": [
        "## 파라미터 정의"
      ],
      "metadata": {
        "id": "rruk9B9NJfbi"
      }
    },
    {
      "cell_type": "code",
      "source": [
        "model_name = 'cnn_classifier_kr'\n",
        "BATCH_SIZE = 512\n",
        "NUM_EPOCHS = 2\n",
        "VALID_SPLIT = 0.1\n",
        "MAX_LEN = train_input.shape[1]\n",
        "\n",
        "kargs = {'model_name': model_name,\n",
        "        'vocab_size': prepro_configs['vocab_size'],\n",
        "        'embedding_size': 128,\n",
        "        'num_filters': 100,\n",
        "        'dropout_rate': 0.5,\n",
        "        'hidden_dimension': 250,\n",
        "        'output_dimension':1}"
      ],
      "metadata": {
        "id": "XyWUlpJNHUc4"
      },
      "execution_count": 5,
      "outputs": []
    },
    {
      "cell_type": "markdown",
      "source": [
        "## 모델 함수"
      ],
      "metadata": {
        "id": "oBnsjivxJ6Jh"
      }
    },
    {
      "cell_type": "code",
      "source": [
        "class CNNClassifier(tf.keras.Model):\n",
        "\n",
        "    def __init__(self, **kargs):\n",
        "        super(CNNClassifier, self).__init__(name=kargs['model_name'])\n",
        "        self.embedding = layers.Embedding(input_dim=kargs['vocab_size'],\n",
        "                                          output_dim=kargs['embedding_size'])\n",
        "        self.conv_list = [\n",
        "            layers.Conv1D(\n",
        "                filters=kargs['num_filters'],\n",
        "                kernel_size=kernel_size,\n",
        "                padding='valid',\n",
        "                activation=tf.keras.activations.relu,\n",
        "                kernel_constraint=tf.keras.constraints.MaxNorm(max_value=3.))\n",
        "            for kernel_size in [3, 4, 5]\n",
        "        ]\n",
        "\n",
        "        self.pooling = layers.GlobalMaxPooling1D()\n",
        "        self.dropout = layers.Dropout(kargs['dropout_rate'])\n",
        "        self.fc1 = layers.Dense(units=kargs['hidden_dimension'],\n",
        "                                activation=tf.keras.activations.relu,\n",
        "                                kernel_constraint=tf.keras.constraints.MaxNorm(max_value=3.))\n",
        "        self.fc2 = layers.Dense(units=kargs['output_dimension'],\n",
        "                                activation=tf.keras.activations.sigmoid,\n",
        "                                kernel_constraint=tf.keras.constraints.MaxNorm(max_value=3.))\n",
        "\n",
        "    def call(self, x):\n",
        "        x = self.embedding(x)\n",
        "        x = self.dropout(x)\n",
        "        x = tf.concat([self.pooling(conv(x))\n",
        "                      for conv in self.conv_list], axis=-1)\n",
        "        x = self.fc1(x)\n",
        "        x = self.fc2(x)\n",
        "\n",
        "        return x"
      ],
      "metadata": {
        "id": "Ms8POI5HJ4tQ"
      },
      "execution_count": 6,
      "outputs": []
    },
    {
      "cell_type": "markdown",
      "source": [
        "## 모델 학습"
      ],
      "metadata": {
        "id": "aVMtr6zZKn6t"
      }
    },
    {
      "cell_type": "code",
      "source": [
        "model = CNNClassifier(**kargs)\n",
        "\n",
        "model.compile(optimizer=tf.keras.optimizers.Adam(),\n",
        "              loss=tf.keras.losses.BinaryCrossentropy(),\n",
        "              metrics=[tf.keras.metrics.BinaryAccuracy(name='accuracy')])"
      ],
      "metadata": {
        "id": "bty8OwQgKlqv"
      },
      "execution_count": 7,
      "outputs": []
    },
    {
      "cell_type": "code",
      "source": [
        "# overfitting을 막기 위한 ealrystop 추가\n",
        "earlystop_callback = EarlyStopping(monitor='val_accuracy', min_delta=0.0001,patience=2)\n",
        "# min_delta: the threshold that triggers the termination (acc should at least improve 0.0001)\n",
        "# patience: no improvment epochs (patience = 1, 1번 이상 상승이 없으면 종료)\\\n",
        "\n",
        "checkpoint_path = DATA_OUT_PATH + model_name + '/weights.h5'\n",
        "checkpoint_dir = os.path.dirname(checkpoint_path)\n",
        "\n",
        "# Create path if exists\n",
        "if os.path.exists(checkpoint_dir):\n",
        "    print(\"{} -- Folder already exists \\n\".format(checkpoint_dir))\n",
        "else:\n",
        "    os.makedirs(checkpoint_dir, exist_ok=True)\n",
        "    print(\"{} -- Folder create complete \\n\".format(checkpoint_dir))\n",
        "    \n",
        "\n",
        "cp_callback = ModelCheckpoint(\n",
        "    checkpoint_path, monitor='val_accuracy', verbose=1, save_best_only=True, save_weights_only=True)\n",
        "\n",
        "history = model.fit(train_input, train_label, batch_size=BATCH_SIZE, epochs=NUM_EPOCHS,\n",
        "                    validation_split=VALID_SPLIT, callbacks=[earlystop_callback, cp_callback])"
      ],
      "metadata": {
        "colab": {
          "base_uri": "https://localhost:8080/"
        },
        "id": "TMbRYgUPKznl",
        "outputId": "99699db5-1596-45bb-fe16-c0cf79005887"
      },
      "execution_count": 8,
      "outputs": [
        {
          "output_type": "stream",
          "name": "stdout",
          "text": [
            "./data_out/cnn_classifier_kr -- Folder create complete \n",
            "\n",
            "Epoch 1/2\n",
            "264/264 [==============================] - ETA: 0s - loss: 0.4609 - accuracy: 0.7753\n",
            "Epoch 1: val_accuracy improved from -inf to 0.82113, saving model to ./data_out/cnn_classifier_kr/weights.h5\n",
            "264/264 [==============================] - 12s 11ms/step - loss: 0.4609 - accuracy: 0.7753 - val_loss: 0.3902 - val_accuracy: 0.8211\n",
            "Epoch 2/2\n",
            "264/264 [==============================] - ETA: 0s - loss: 0.3521 - accuracy: 0.8450\n",
            "Epoch 2: val_accuracy improved from 0.82113 to 0.82820, saving model to ./data_out/cnn_classifier_kr/weights.h5\n",
            "264/264 [==============================] - 3s 11ms/step - loss: 0.3521 - accuracy: 0.8450 - val_loss: 0.3823 - val_accuracy: 0.8282\n"
          ]
        }
      ]
    },
    {
      "cell_type": "markdown",
      "source": [
        "## 성능 그래프"
      ],
      "metadata": {
        "id": "NxZH0xPcLDB4"
      }
    },
    {
      "cell_type": "code",
      "source": [
        "def plot_graphs(history, string):\n",
        "    plt.plot(history.history[string])\n",
        "    plt.plot(history.history['val_'+string], '')\n",
        "    plt.xlabel(\"Epochs\")\n",
        "    plt.ylabel(string)\n",
        "    plt.legend([string, 'val_'+string])\n",
        "    plt.show()"
      ],
      "metadata": {
        "id": "Wj6of1bILKxD"
      },
      "execution_count": 9,
      "outputs": []
    },
    {
      "cell_type": "code",
      "source": [
        "plot_graphs(history, 'loss')"
      ],
      "metadata": {
        "colab": {
          "base_uri": "https://localhost:8080/",
          "height": 279
        },
        "id": "hVjyL4JpLBs3",
        "outputId": "6817f98f-b789-448f-bd0c-c09f23f6b2e5"
      },
      "execution_count": 10,
      "outputs": [
        {
          "output_type": "display_data",
          "data": {
            "text/plain": [
              "<Figure size 432x288 with 1 Axes>"
            ],
            "image/png": "[encoded data removed]"
          },
          "metadata": {
            "needs_background": "light"
          }
        }
      ]
    },
    {
      "cell_type": "code",
      "source": [
        "plot_graphs(history, 'accuracy')"
      ],
      "metadata": {
        "colab": {
          "base_uri": "https://localhost:8080/",
          "height": 279
        },
        "id": "huX3gthDLKdz",
        "outputId": "b11ad8f3-dd3f-4c48-e23a-61aa67e31a3f"
      },
      "execution_count": 11,
      "outputs": [
        {
          "output_type": "display_data",
          "data": {
            "text/plain": [
              "<Figure size 432x288 with 1 Axes>"
            ],
            "image/png": "[encoded data removed]"
          },
          "metadata": {
            "needs_background": "light"
          }
        }
      ]
    },
    {
      "cell_type": "markdown",
      "source": [
        "## 모델 테스트"
      ],
      "metadata": {
        "id": "BbokOD9-LS0S"
      }
    },
    {
      "cell_type": "code",
      "source": [
        "DATA_OUT_PATH = './data_out/'\n",
        "INPUT_TEST_DATA = 'nsmc_test_input.npy'\n",
        "LABEL_TEST_DATA = 'nsmc_test_label.npy'\n",
        "SAVE_FILE_NM = 'weights.h5' # 저장된 best model 이름\n",
        "\n",
        "test_input = np.load(open(DATA_IN_PATH + INPUT_TEST_DATA, 'rb'))\n",
        "test_input = pad_sequences(test_input, maxlen=test_input.shape[1])\n",
        "test_label_data = np.load(open(DATA_IN_PATH + LABEL_TEST_DATA, 'rb'))"
      ],
      "metadata": {
        "id": "b8o7je_jLM7Y"
      },
      "execution_count": 13,
      "outputs": []
    },
    {
      "cell_type": "code",
      "source": [
        "model.load_weights(os.path.join(DATA_OUT_PATH, model_name, SAVE_FILE_NM))\n",
        "model.evaluate(test_input, test_label_data)"
      ],
      "metadata": {
        "colab": {
          "base_uri": "https://localhost:8080/"
        },
        "id": "bLKbzZvALedN",
        "outputId": "4977c1a7-13e2-4eef-d8b5-953153939140"
      },
      "execution_count": 14,
      "outputs": [
        {
          "output_type": "stream",
          "name": "stdout",
          "text": [
            "1563/1563 [==============================] - 4s 3ms/step - loss: 0.3846 - accuracy: 0.8272\n"
          ]
        },
        {
          "output_type": "execute_result",
          "data": {
            "text/plain": [
              "[0.38455870747566223, 0.8271600008010864]"
            ]
          },
          "metadata": {},
          "execution_count": 14
        }
      ]
    }
  ]
}